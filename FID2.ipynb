{
  "nbformat": 4,
  "nbformat_minor": 0,
  "metadata": {
    "colab": {
      "provenance": [],
      "gpuType": "T4",
      "mount_file_id": "1fDnMZGy4NHeOmvMo62UkacdpGr3DE3wu",
      "authorship_tag": "ABX9TyOojI4piSBA7TF4EXAjD2nH"
    },
    "kernelspec": {
      "name": "python3",
      "display_name": "Python 3"
    },
    "language_info": {
      "name": "python"
    },
    "accelerator": "GPU"
  },
  "cells": [
    {
      "cell_type": "code",
      "source": [
        "pip install pytorch-fid"
      ],
      "metadata": {
        "colab": {
          "base_uri": "https://localhost:8080/"
        },
        "id": "7RYOYbJ_Ly5S",
        "outputId": "4941efc3-896f-4445-b329-c5936a5dbafc"
      },
      "execution_count": null,
      "outputs": [
        {
          "output_type": "stream",
          "name": "stdout",
          "text": [
            "Collecting pytorch-fid\n",
            "  Downloading pytorch_fid-0.3.0-py3-none-any.whl (15 kB)\n",
            "Requirement already satisfied: numpy in /usr/local/lib/python3.10/dist-packages (from pytorch-fid) (1.23.5)\n",
            "Requirement already satisfied: pillow in /usr/local/lib/python3.10/dist-packages (from pytorch-fid) (9.4.0)\n",
            "Requirement already satisfied: scipy in /usr/local/lib/python3.10/dist-packages (from pytorch-fid) (1.10.1)\n",
            "Requirement already satisfied: torch>=1.0.1 in /usr/local/lib/python3.10/dist-packages (from pytorch-fid) (2.0.1+cu118)\n",
            "Requirement already satisfied: torchvision>=0.2.2 in /usr/local/lib/python3.10/dist-packages (from pytorch-fid) (0.15.2+cu118)\n",
            "Requirement already satisfied: filelock in /usr/local/lib/python3.10/dist-packages (from torch>=1.0.1->pytorch-fid) (3.12.2)\n",
            "Requirement already satisfied: typing-extensions in /usr/local/lib/python3.10/dist-packages (from torch>=1.0.1->pytorch-fid) (4.7.1)\n",
            "Requirement already satisfied: sympy in /usr/local/lib/python3.10/dist-packages (from torch>=1.0.1->pytorch-fid) (1.12)\n",
            "Requirement already satisfied: networkx in /usr/local/lib/python3.10/dist-packages (from torch>=1.0.1->pytorch-fid) (3.1)\n",
            "Requirement already satisfied: jinja2 in /usr/local/lib/python3.10/dist-packages (from torch>=1.0.1->pytorch-fid) (3.1.2)\n",
            "Requirement already satisfied: triton==2.0.0 in /usr/local/lib/python3.10/dist-packages (from torch>=1.0.1->pytorch-fid) (2.0.0)\n",
            "Requirement already satisfied: cmake in /usr/local/lib/python3.10/dist-packages (from triton==2.0.0->torch>=1.0.1->pytorch-fid) (3.27.2)\n",
            "Requirement already satisfied: lit in /usr/local/lib/python3.10/dist-packages (from triton==2.0.0->torch>=1.0.1->pytorch-fid) (16.0.6)\n",
            "Requirement already satisfied: requests in /usr/local/lib/python3.10/dist-packages (from torchvision>=0.2.2->pytorch-fid) (2.31.0)\n",
            "Requirement already satisfied: MarkupSafe>=2.0 in /usr/local/lib/python3.10/dist-packages (from jinja2->torch>=1.0.1->pytorch-fid) (2.1.3)\n",
            "Requirement already satisfied: charset-normalizer<4,>=2 in /usr/local/lib/python3.10/dist-packages (from requests->torchvision>=0.2.2->pytorch-fid) (3.2.0)\n",
            "Requirement already satisfied: idna<4,>=2.5 in /usr/local/lib/python3.10/dist-packages (from requests->torchvision>=0.2.2->pytorch-fid) (3.4)\n",
            "Requirement already satisfied: urllib3<3,>=1.21.1 in /usr/local/lib/python3.10/dist-packages (from requests->torchvision>=0.2.2->pytorch-fid) (2.0.4)\n",
            "Requirement already satisfied: certifi>=2017.4.17 in /usr/local/lib/python3.10/dist-packages (from requests->torchvision>=0.2.2->pytorch-fid) (2023.7.22)\n",
            "Requirement already satisfied: mpmath>=0.19 in /usr/local/lib/python3.10/dist-packages (from sympy->torch>=1.0.1->pytorch-fid) (1.3.0)\n",
            "Installing collected packages: pytorch-fid\n",
            "Successfully installed pytorch-fid-0.3.0\n"
          ]
        }
      ]
    },
    {
      "cell_type": "code",
      "execution_count": null,
      "metadata": {
        "id": "5TXwINayLs9J"
      },
      "outputs": [],
      "source": [
        "import numpy as np\n",
        "import os\n",
        "import random\n",
        "from PIL import Image\n",
        "from pytorch_fid import fid_score"
      ]
    },
    {
      "cell_type": "code",
      "source": [
        "!unzip /content/drive/MyDrive/sketch/quickdrawtest.zip"
      ],
      "metadata": {
        "colab": {
          "base_uri": "https://localhost:8080/"
        },
        "id": "MfVt0BSkNSx_",
        "outputId": "973951b7-28ca-470d-d7c6-87eeaa9e603c"
      },
      "execution_count": null,
      "outputs": [
        {
          "output_type": "stream",
          "name": "stdout",
          "text": [
            "Archive:  /content/drive/MyDrive/sketch/quickdrawtest.zip\n",
            "   creating: quickdrawtest/\n",
            "  inflating: quickdrawtest/bus.npy   \n",
            "  inflating: quickdrawtest/moon.npy  \n",
            "  inflating: quickdrawtest/fish.npy  \n",
            "  inflating: quickdrawtest/airplane.npy  \n",
            "  inflating: quickdrawtest/lion.npy  \n",
            "  inflating: quickdrawtest/train.npy  \n",
            "  inflating: quickdrawtest/spider.npy  \n",
            "  inflating: quickdrawtest/apple.npy  \n",
            "  inflating: quickdrawtest/shoe.npy  \n",
            "  inflating: quickdrawtest/umbrella.npy  \n"
          ]
        }
      ]
    },
    {
      "cell_type": "code",
      "source": [
        "!unzip /content/drive/MyDrive/sketch/quickdrawgen/airplane.zip"
      ],
      "metadata": {
        "colab": {
          "base_uri": "https://localhost:8080/"
        },
        "id": "ecb56DeeNsi0",
        "outputId": "5b495d98-edb8-4561-d692-a4ed5c8813b8"
      },
      "execution_count": null,
      "outputs": [
        {
          "output_type": "stream",
          "name": "stdout",
          "text": [
            "Archive:  /content/drive/MyDrive/sketch/quickdrawgen/airplane.zip\n",
            "   creating: airplane/\n",
            " extracting: airplane/airplane_27.png  \n",
            " extracting: airplane/airplane_16.png  \n",
            " extracting: airplane/airplane_18.png  \n",
            " extracting: airplane/airplane_43.png  \n",
            " extracting: airplane/airplane_42.png  \n",
            " extracting: airplane/airplane_8.png  \n",
            " extracting: airplane/airplane_30.png  \n",
            " extracting: airplane/airplane_3.png  \n",
            " extracting: airplane/airplane_26.png  \n",
            " extracting: airplane/airplane_31.png  \n",
            " extracting: airplane/airplane_25.png  \n",
            " extracting: airplane/airplane_35.png  \n",
            " extracting: airplane/airplane_22.png  \n",
            " extracting: airplane/airplane_5.png  \n",
            " extracting: airplane/airplane_46.png  \n",
            " extracting: airplane/airplane_0.png  \n",
            " extracting: airplane/airplane_37.png  \n",
            " extracting: airplane/airplane_1.png  \n",
            " extracting: airplane/airplane_14.png  \n",
            " extracting: airplane/airplane_7.png  \n",
            " extracting: airplane/airplane_21.png  \n",
            " extracting: airplane/airplane_20.png  \n",
            " extracting: airplane/airplane_19.png  \n",
            " extracting: airplane/airplane_12.png  \n",
            " extracting: airplane/airplane_23.png  \n",
            " extracting: airplane/airplane_9.png  \n",
            " extracting: airplane/airplane_28.png  \n",
            " extracting: airplane/airplane_15.png  \n",
            " extracting: airplane/airplane_11.png  \n",
            " extracting: airplane/airplane_49.png  \n",
            " extracting: airplane/airplane_33.png  \n",
            " extracting: airplane/airplane_39.png  \n",
            " extracting: airplane/airplane_38.png  \n",
            " extracting: airplane/airplane_32.png  \n",
            " extracting: airplane/airplane_29.png  \n",
            " extracting: airplane/airplane_17.png  \n",
            " extracting: airplane/airplane_34.png  \n",
            " extracting: airplane/airplane_44.png  \n",
            " extracting: airplane/airplane_24.png  \n",
            " extracting: airplane/airplane_13.png  \n",
            " extracting: airplane/airplane_2.png  \n",
            " extracting: airplane/airplane_4.png  \n",
            " extracting: airplane/airplane_6.png  \n",
            " extracting: airplane/airplane_48.png  \n",
            " extracting: airplane/airplane_41.png  \n",
            " extracting: airplane/airplane_45.png  \n",
            " extracting: airplane/airplane_10.png  \n",
            " extracting: airplane/airplane_47.png  \n",
            " extracting: airplane/airplane_40.png  \n",
            " extracting: airplane/airplane_36.png  \n"
          ]
        }
      ]
    },
    {
      "cell_type": "code",
      "source": [
        "!unzip /content/drive/MyDrive/sketch/quickdraw5k.zip"
      ],
      "metadata": {
        "colab": {
          "base_uri": "https://localhost:8080/"
        },
        "id": "E1-rcEB2Plro",
        "outputId": "5b71f59f-8e40-4258-a714-4dddb0949785"
      },
      "execution_count": null,
      "outputs": [
        {
          "output_type": "stream",
          "name": "stdout",
          "text": [
            "Archive:  /content/drive/MyDrive/sketch/quickdraw5k.zip\n",
            "   creating: quickdraw5k/\n",
            "  inflating: quickdraw5k/airplane.npy  \n",
            "  inflating: quickdraw5k/bus.npy     \n",
            "  inflating: quickdraw5k/fish.npy    \n",
            "  inflating: quickdraw5k/moon.npy    \n",
            "  inflating: quickdraw5k/shoe.npy    \n",
            "  inflating: quickdraw5k/lion.npy    \n",
            "  inflating: quickdraw5k/spider.npy  \n",
            "  inflating: quickdraw5k/apple.npy   \n",
            "  inflating: quickdraw5k/umbrella.npy  \n",
            "  inflating: quickdraw5k/train.npy   \n"
          ]
        }
      ]
    },
    {
      "cell_type": "code",
      "source": [
        "# Load the airplane.npy file as a numpy array\n",
        "data = np.load('/content/quickdraw5k/airplane.npy')\n",
        "\n",
        "# Reshape the array to the original image shape\n",
        "data = data.reshape(-1, 28, 28)\n",
        "\n",
        "os.makedirs('real_airplane', exist_ok=True)\n",
        "\n",
        "# Convert each image to 32x32 PNG format\n",
        "for i in range(data.shape[0]):\n",
        "    img = Image.fromarray(data[i].astype(np.uint8))\n",
        "    img = img.resize((32, 32), Image.ANTIALIAS)\n",
        "    img.save(f'/content/real_airplane/airplane_{i}.png')\n"
      ],
      "metadata": {
        "colab": {
          "base_uri": "https://localhost:8080/"
        },
        "id": "XfZZtge6L1yc",
        "outputId": "14bd2954-e9cc-4683-be72-20e15296ee0b"
      },
      "execution_count": null,
      "outputs": [
        {
          "output_type": "stream",
          "name": "stderr",
          "text": [
            "<ipython-input-15-5ae291711e54>:12: DeprecationWarning: ANTIALIAS is deprecated and will be removed in Pillow 10 (2023-07-01). Use LANCZOS or Resampling.LANCZOS instead.\n",
            "  img = img.resize((32, 32), Image.ANTIALIAS)\n"
          ]
        }
      ]
    },
    {
      "cell_type": "code",
      "source": [
        "# Path to the directory containing the 50 generated images\n",
        "path_generated = '/content/airplane'\n",
        "\n",
        "# Create directory to save duplicated generated images\n",
        "os.makedirs('duplicated_generated_airplane', exist_ok=True)\n",
        "\n",
        "# List of generated images\n",
        "generated_images = os.listdir(path_generated)\n",
        "\n",
        "# Number of times to duplicate each image to get 5000 images\n",
        "num_duplicates = 1000 // len(generated_images)\n",
        "\n",
        "# Duplicate images\n",
        "for i, img_name in enumerate(generated_images):\n",
        "    img = Image.open(os.path.join(path_generated, img_name))\n",
        "    for j in range(num_duplicates):\n",
        "        img.save(f'duplicated_generated_airplane/airplane_{i*num_duplicates + j}.png')"
      ],
      "metadata": {
        "id": "3Ss2msbPO_A3"
      },
      "execution_count": null,
      "outputs": []
    },
    {
      "cell_type": "code",
      "source": [
        "# Path to directory containing the generated images\n",
        "path_generated = '/content/duplicated_generated_airplane'  # replace with your path\n",
        "path_real = '/content/real_airplane'"
      ],
      "metadata": {
        "id": "bfK7O7VCL6j2"
      },
      "execution_count": null,
      "outputs": []
    },
    {
      "cell_type": "code",
      "source": [
        "# Device to use ('cpu' or 'cuda')\n",
        "device = 'cuda'\n",
        "\n",
        "# Dimensionality of Inception feature vectors (default is 2048)\n",
        "dims = 2048\n",
        "\n",
        "# Batch size\n",
        "batch_size = 50"
      ],
      "metadata": {
        "id": "tTGwwtScL99M"
      },
      "execution_count": null,
      "outputs": []
    },
    {
      "cell_type": "code",
      "source": [
        "fid = fid_score.calculate_fid_given_paths([path_real, path_generated], batch_size, device, dims)\n",
        "\n",
        "print(f'FID score: {fid}')"
      ],
      "metadata": {
        "colab": {
          "base_uri": "https://localhost:8080/"
        },
        "id": "_6blbqyRMAkC",
        "outputId": "24b787f3-5426-4389-c410-841fd447aaec"
      },
      "execution_count": null,
      "outputs": [
        {
          "output_type": "stream",
          "name": "stderr",
          "text": [
            "100%|██████████| 100/100 [00:19<00:00,  5.26it/s]\n",
            "100%|██████████| 20/20 [00:03<00:00,  5.28it/s]\n"
          ]
        },
        {
          "output_type": "stream",
          "name": "stdout",
          "text": [
            "FID score: 98.56032312165321\n"
          ]
        }
      ]
    }
  ]
}